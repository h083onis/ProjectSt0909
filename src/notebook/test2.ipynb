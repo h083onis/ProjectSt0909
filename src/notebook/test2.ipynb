{
 "cells": [
  {
   "cell_type": "code",
   "execution_count": 1,
   "metadata": {},
   "outputs": [],
   "source": [
    "from remove_comment import RemoveComment\n",
    "rc = RemoveComment()"
   ]
  },
  {
   "cell_type": "code",
   "execution_count": 3,
   "metadata": {},
   "outputs": [
    {
     "name": "stdout",
     "output_type": "stream",
     "text": [
      "package org.apache.camel.component.kubernetes.persistent_volumes_claims.springboot;\n",
      "import java.util.HashMap;\n",
      "import java.util.List;\n",
      "import java.util.Map;\n",
      "import javax.annotation.Generated;\n",
      "import org.apache.camel.CamelContext;\n",
      "import org.apache.camel.component.kubernetes.persistent_volumes_claims.KubernetesPersistentVolumesClaimsComponent;\n",
      "import org.apache.camel.spi.ComponentCustomizer;\n",
      "import org.apache.camel.spi.HasId;\n",
      "import org.apache.camel.spring.boot.CamelAutoConfiguration;\n",
      "import org.apache.camel.spring.boot.ComponentConfigurationProperties;\n",
      "import org.apache.camel.spring.boot.util.CamelPropertiesHelper;\n",
      "import org.apache.camel.spring.boot.util.ConditionalOnCamelContextAndAutoConfigurationBeans;\n",
      "import org.apache.camel.spring.boot.util.GroupCondition;\n",
      "import org.apache.camel.spring.boot.util.HierarchicalPropertiesEvaluator;\n",
      "import org.apache.camel.support.IntrospectionSupport;\n",
      "import org.apache.camel.util.ObjectHelper;\n",
      "import org.slf4j.Logger;\n",
      "import org.slf4j.LoggerFactory;\n",
      "import org.springframework.beans.factory.annotation.Autowired;\n",
      "import org.springframework.boot.autoconfigure.AutoConfigureAfter;\n",
      "import org.springframework.boot.autoconfigure.condition.ConditionalOnBean;\n",
      "import org.springframework.boot.autoconfigure.condition.ConditionalOnMissingBean;\n",
      "import org.springframework.boot.context.properties.EnableConfigurationProperties;\n",
      "import org.springframework.context.ApplicationContext;\n",
      "import org.springframework.context.annotation.Bean;\n",
      "import org.springframework.context.annotation.Conditional;\n",
      "import org.springframework.context.annotation.Configuration;\n",
      "import org.springframework.context.annotation.Lazy;\n",
      "@Generated(\"org.apache.camel.maven.packaging.SpringBootAutoConfigurationMojo\")\n",
      "@Configuration\n",
      "@Conditional({ConditionalOnCamelContextAndAutoConfigurationBeans.class,\n",
      "        KubernetesPersistentVolumesClaimsComponentAutoConfiguration.GroupConditions.class})\n",
      "@AutoConfigureAfter(CamelAutoConfiguration.class)\n",
      "@EnableConfigurationProperties({ComponentConfigurationProperties.class,\n",
      "        KubernetesPersistentVolumesClaimsComponentConfiguration.class})\n",
      "public class KubernetesPersistentVolumesClaimsComponentAutoConfiguration {\n",
      "    private static final Logger LOGGER = LoggerFactory\n",
      "            .getLogger(KubernetesPersistentVolumesClaimsComponentAutoConfiguration.class);\n",
      "    @Autowired\n",
      "    private ApplicationContext applicationContext;\n",
      "    @Autowired\n",
      "    private CamelContext camelContext;\n",
      "    @Autowired\n",
      "    private KubernetesPersistentVolumesClaimsComponentConfiguration configuration;\n",
      "    @Autowired(required = false)\n",
      "    private List<ComponentCustomizer<KubernetesPersistentVolumesClaimsComponent>> customizers;\n",
      "    static class GroupConditions extends GroupCondition {\n",
      "        public GroupConditions() {\n",
      "            super(\"camel.component\", \"camel.component.kubernetes-persistent-volumes-claims\");\n",
      "        }\n",
      "    }\n",
      "    @Lazy\n",
      "    @Bean(name = \"kubernetes-persistent-volumes-claims-component\")\n",
      "    @ConditionalOnMissingBean(KubernetesPersistentVolumesClaimsComponent.class)\n",
      "    public KubernetesPersistentVolumesClaimsComponent configureKubernetesPersistentVolumesClaimsComponent()\n",
      "            throws Exception {\n",
      "        KubernetesPersistentVolumesClaimsComponent component = new KubernetesPersistentVolumesClaimsComponent();\n",
      "        component.setCamelContext(camelContext);\n",
      "        Map<String, Object> parameters = new HashMap<>();\n",
      "        IntrospectionSupport.getProperties(configuration, parameters, null,\n",
      "                false);\n",
      "        for (Map.Entry<String, Object> entry : parameters.entrySet()) {\n",
      "            Object value = entry.getValue();\n",
      "            Class<?> paramClass = value.getClass();\n",
      "            if (paramClass.getName().endsWith(\"NestedConfiguration\")) {\n",
      "                Class nestedClass = null;\n",
      "                try {\n",
      "                    nestedClass = (Class) paramClass.getDeclaredField(\n",
      "                            \"CAMEL_NESTED_CLASS\").get(null);\n",
      "                    HashMap<String, Object> nestedParameters = new HashMap<>();\n",
      "                    IntrospectionSupport.getProperties(value, nestedParameters,\n",
      "                            null, false);\n",
      "                    Object nestedProperty = nestedClass.newInstance();\n",
      "                    CamelPropertiesHelper.setCamelProperties(camelContext,\n",
      "                            nestedProperty, nestedParameters, false);\n",
      "                    entry.setValue(nestedProperty);\n",
      "                } catch (NoSuchFieldException e) {\n",
      "                }\n",
      "            }\n",
      "        }\n",
      "        CamelPropertiesHelper.setCamelProperties(camelContext, component,\n",
      "                parameters, false);\n",
      "        if (ObjectHelper.isNotEmpty(customizers)) {\n",
      "            for (ComponentCustomizer<KubernetesPersistentVolumesClaimsComponent> customizer : customizers) {\n",
      "                boolean useCustomizer = (customizer instanceof HasId)\n",
      "                        ? HierarchicalPropertiesEvaluator.evaluate(\n",
      "                                applicationContext.getEnvironment(),\n",
      "                                \"camel.component.customizer\",\n",
      "                                \"camel.component.kubernetes-persistent-volumes-claims.customizer\",\n",
      "                                ((HasId) customizer).getId())\n",
      "                        : HierarchicalPropertiesEvaluator.evaluate(\n",
      "                                applicationContext.getEnvironment(),\n",
      "                                \"camel.component.customizer\",\n",
      "                                \"camel.component.kubernetes-persistent-volumes-claims.customizer\");\n",
      "                if (useCustomizer) {\n",
      "                    LOGGER.debug(\"Configure component {}, with customizer {}\",\n",
      "                            component, customizer);\n",
      "                    customizer.customize(component);\n",
      "                }\n",
      "            }\n",
      "        }\n",
      "        return component;\n",
      "    }\n",
      "}\n"
     ]
    }
   ],
   "source": [
    "# path = \"remove_comment.py\"\n",
    "# path =\"C:/Users/masak/workspace/sample_data/camel/core/camel-api/src/main/java/org/apache/camel/Endpoint.java\"\n",
    "# path =\"C:/Users/masak/workspace/sample_data/camel/platforms/spring-boot/components-starter/camel-kubernetes-starter/src/main/java/org/apache/camel/component/kubernetes/persistent_volumes_claims/springboot/KubernetesPersistentVolumesClaimsComponentAutoConfiguration.java\"\n",
    "path =\"C:/Users/masak/workspace/sample_data/camel/platforms/spring-boot/components-starter/camel-kubernetes-starter/src/main/java/org/apache/camel/component/kubernetes/persistent_volumes_claims/springboot/KubernetesPersistentVolumesClaimsComponentAutoConfiguration.java\"\n",
    "# path =\"C:/Users/masak/workspace/sample_data/camel/platforms/spring-boot/components-starter/camel-kubernetes-starter/src/main/java/org/apache/camel/component/kubernetes/persistent_volumes/springboot/KubernetesPersistentVolumesComponentAutoConfiguration.java\"\n",
    "with open(path, 'r', encoding='utf-8') as f:\n",
    "    code = f.read()\n",
    "    \n",
    "code2 = rc.remove_comment(code, 'java')\n",
    "# print(code2)\n",
    "print('/n'.join(line for line in code2.split('/n') if line.strip() != ''))"
   ]
  },
  {
   "cell_type": "code",
   "execution_count": 3,
   "metadata": {},
   "outputs": [
    {
     "data": {
      "text/plain": [
       "'aldettinger'"
      ]
     },
     "execution_count": 3,
     "metadata": {},
     "output_type": "execute_result"
    }
   ],
   "source": [
    "from git import Repo\n",
    "repo = Repo('../../../sample_data/camel')\n",
    "commit = repo.commit('HEAD')\n",
    "\n",
    "commit.author.name"
   ]
  },
  {
   "cell_type": "code",
   "execution_count": 5,
   "metadata": {},
   "outputs": [
    {
     "ename": "JSONDecodeError",
     "evalue": "Expecting value: line 1 column 3 (char 2)",
     "output_type": "error",
     "traceback": [
      "\u001b[1;31m---------------------------------------------------------------------------\u001b[0m",
      "\u001b[1;31mJSONDecodeError\u001b[0m                           Traceback (most recent call last)",
      "Cell \u001b[1;32mIn[5], line 3\u001b[0m\n\u001b[0;32m      1\u001b[0m \u001b[38;5;28;01mimport\u001b[39;00m \u001b[38;5;21;01mndjson\u001b[39;00m\n\u001b[0;32m      2\u001b[0m \u001b[38;5;28;01mwith\u001b[39;00m \u001b[38;5;28mopen\u001b[39m(\u001b[38;5;124m\"\u001b[39m\u001b[38;5;124mresource/camel.json\u001b[39m\u001b[38;5;124m\"\u001b[39m, \u001b[38;5;124m\"\u001b[39m\u001b[38;5;124mr\u001b[39m\u001b[38;5;124m\"\u001b[39m, encoding\u001b[38;5;241m=\u001b[39m\u001b[38;5;124m'\u001b[39m\u001b[38;5;124mutf-8\u001b[39m\u001b[38;5;124m'\u001b[39m) \u001b[38;5;28;01mas\u001b[39;00m f:\n\u001b[1;32m----> 3\u001b[0m     data \u001b[38;5;241m=\u001b[39m \u001b[43mndjson\u001b[49m\u001b[38;5;241;43m.\u001b[39;49m\u001b[43mload\u001b[49m\u001b[43m(\u001b[49m\u001b[43mf\u001b[49m\u001b[43m)\u001b[49m\n\u001b[0;32m      5\u001b[0m \u001b[38;5;28;01mfor\u001b[39;00m record \u001b[38;5;129;01min\u001b[39;00m data:\n\u001b[0;32m      6\u001b[0m     \u001b[38;5;28mprint\u001b[39m(record)\n",
      "File \u001b[1;32mc:\\Users\\masak\\anaconda3\\envs\\M2C\\Lib\\site-packages\\ndjson\\api.py:9\u001b[0m, in \u001b[0;36mload\u001b[1;34m(*args, **kwargs)\u001b[0m\n\u001b[0;32m      7\u001b[0m \u001b[38;5;28;01mdef\u001b[39;00m \u001b[38;5;21mload\u001b[39m(\u001b[38;5;241m*\u001b[39margs, \u001b[38;5;241m*\u001b[39m\u001b[38;5;241m*\u001b[39mkwargs):\n\u001b[0;32m      8\u001b[0m     kwargs\u001b[38;5;241m.\u001b[39msetdefault(\u001b[38;5;124m'\u001b[39m\u001b[38;5;124mcls\u001b[39m\u001b[38;5;124m'\u001b[39m, Decoder)\n\u001b[1;32m----> 9\u001b[0m     \u001b[38;5;28;01mreturn\u001b[39;00m \u001b[43mjson\u001b[49m\u001b[38;5;241;43m.\u001b[39;49m\u001b[43mload\u001b[49m\u001b[43m(\u001b[49m\u001b[38;5;241;43m*\u001b[39;49m\u001b[43margs\u001b[49m\u001b[43m,\u001b[49m\u001b[43m \u001b[49m\u001b[38;5;241;43m*\u001b[39;49m\u001b[38;5;241;43m*\u001b[39;49m\u001b[43mkwargs\u001b[49m\u001b[43m)\u001b[49m\n",
      "File \u001b[1;32mc:\\Users\\masak\\anaconda3\\envs\\M2C\\Lib\\json\\__init__.py:293\u001b[0m, in \u001b[0;36mload\u001b[1;34m(fp, cls, object_hook, parse_float, parse_int, parse_constant, object_pairs_hook, **kw)\u001b[0m\n\u001b[0;32m    274\u001b[0m \u001b[38;5;28;01mdef\u001b[39;00m \u001b[38;5;21mload\u001b[39m(fp, \u001b[38;5;241m*\u001b[39m, \u001b[38;5;28mcls\u001b[39m\u001b[38;5;241m=\u001b[39m\u001b[38;5;28;01mNone\u001b[39;00m, object_hook\u001b[38;5;241m=\u001b[39m\u001b[38;5;28;01mNone\u001b[39;00m, parse_float\u001b[38;5;241m=\u001b[39m\u001b[38;5;28;01mNone\u001b[39;00m,\n\u001b[0;32m    275\u001b[0m         parse_int\u001b[38;5;241m=\u001b[39m\u001b[38;5;28;01mNone\u001b[39;00m, parse_constant\u001b[38;5;241m=\u001b[39m\u001b[38;5;28;01mNone\u001b[39;00m, object_pairs_hook\u001b[38;5;241m=\u001b[39m\u001b[38;5;28;01mNone\u001b[39;00m, \u001b[38;5;241m*\u001b[39m\u001b[38;5;241m*\u001b[39mkw):\n\u001b[0;32m    276\u001b[0m \u001b[38;5;250m    \u001b[39m\u001b[38;5;124;03m\"\"\"Deserialize ``fp`` (a ``.read()``-supporting file-like object containing\u001b[39;00m\n\u001b[0;32m    277\u001b[0m \u001b[38;5;124;03m    a JSON document) to a Python object.\u001b[39;00m\n\u001b[0;32m    278\u001b[0m \n\u001b[1;32m   (...)\u001b[0m\n\u001b[0;32m    291\u001b[0m \u001b[38;5;124;03m    kwarg; otherwise ``JSONDecoder`` is used.\u001b[39;00m\n\u001b[0;32m    292\u001b[0m \u001b[38;5;124;03m    \"\"\"\u001b[39;00m\n\u001b[1;32m--> 293\u001b[0m     \u001b[38;5;28;01mreturn\u001b[39;00m \u001b[43mloads\u001b[49m\u001b[43m(\u001b[49m\u001b[43mfp\u001b[49m\u001b[38;5;241;43m.\u001b[39;49m\u001b[43mread\u001b[49m\u001b[43m(\u001b[49m\u001b[43m)\u001b[49m\u001b[43m,\u001b[49m\n\u001b[0;32m    294\u001b[0m \u001b[43m        \u001b[49m\u001b[38;5;28;43mcls\u001b[39;49m\u001b[38;5;241;43m=\u001b[39;49m\u001b[38;5;28;43mcls\u001b[39;49m\u001b[43m,\u001b[49m\u001b[43m \u001b[49m\u001b[43mobject_hook\u001b[49m\u001b[38;5;241;43m=\u001b[39;49m\u001b[43mobject_hook\u001b[49m\u001b[43m,\u001b[49m\n\u001b[0;32m    295\u001b[0m \u001b[43m        \u001b[49m\u001b[43mparse_float\u001b[49m\u001b[38;5;241;43m=\u001b[39;49m\u001b[43mparse_float\u001b[49m\u001b[43m,\u001b[49m\u001b[43m \u001b[49m\u001b[43mparse_int\u001b[49m\u001b[38;5;241;43m=\u001b[39;49m\u001b[43mparse_int\u001b[49m\u001b[43m,\u001b[49m\n\u001b[0;32m    296\u001b[0m \u001b[43m        \u001b[49m\u001b[43mparse_constant\u001b[49m\u001b[38;5;241;43m=\u001b[39;49m\u001b[43mparse_constant\u001b[49m\u001b[43m,\u001b[49m\u001b[43m \u001b[49m\u001b[43mobject_pairs_hook\u001b[49m\u001b[38;5;241;43m=\u001b[39;49m\u001b[43mobject_pairs_hook\u001b[49m\u001b[43m,\u001b[49m\u001b[43m \u001b[49m\u001b[38;5;241;43m*\u001b[39;49m\u001b[38;5;241;43m*\u001b[39;49m\u001b[43mkw\u001b[49m\u001b[43m)\u001b[49m\n",
      "File \u001b[1;32mc:\\Users\\masak\\anaconda3\\envs\\M2C\\Lib\\json\\__init__.py:359\u001b[0m, in \u001b[0;36mloads\u001b[1;34m(s, cls, object_hook, parse_float, parse_int, parse_constant, object_pairs_hook, **kw)\u001b[0m\n\u001b[0;32m    357\u001b[0m \u001b[38;5;28;01mif\u001b[39;00m parse_constant \u001b[38;5;129;01mis\u001b[39;00m \u001b[38;5;129;01mnot\u001b[39;00m \u001b[38;5;28;01mNone\u001b[39;00m:\n\u001b[0;32m    358\u001b[0m     kw[\u001b[38;5;124m'\u001b[39m\u001b[38;5;124mparse_constant\u001b[39m\u001b[38;5;124m'\u001b[39m] \u001b[38;5;241m=\u001b[39m parse_constant\n\u001b[1;32m--> 359\u001b[0m \u001b[38;5;28;01mreturn\u001b[39;00m \u001b[38;5;28;43mcls\u001b[39;49m\u001b[43m(\u001b[49m\u001b[38;5;241;43m*\u001b[39;49m\u001b[38;5;241;43m*\u001b[39;49m\u001b[43mkw\u001b[49m\u001b[43m)\u001b[49m\u001b[38;5;241;43m.\u001b[39;49m\u001b[43mdecode\u001b[49m\u001b[43m(\u001b[49m\u001b[43ms\u001b[49m\u001b[43m)\u001b[49m\n",
      "File \u001b[1;32mc:\\Users\\masak\\anaconda3\\envs\\M2C\\Lib\\site-packages\\ndjson\\codecs.py:9\u001b[0m, in \u001b[0;36mDecoder.decode\u001b[1;34m(self, s, *args, **kwargs)\u001b[0m\n\u001b[0;32m      7\u001b[0m lines \u001b[38;5;241m=\u001b[39m \u001b[38;5;124m'\u001b[39m\u001b[38;5;124m,\u001b[39m\u001b[38;5;124m'\u001b[39m\u001b[38;5;241m.\u001b[39mjoin(s\u001b[38;5;241m.\u001b[39msplitlines())\n\u001b[0;32m      8\u001b[0m text \u001b[38;5;241m=\u001b[39m \u001b[38;5;124m'\u001b[39m\u001b[38;5;124m[\u001b[39m\u001b[38;5;132;01m{}\u001b[39;00m\u001b[38;5;124m]\u001b[39m\u001b[38;5;124m'\u001b[39m\u001b[38;5;241m.\u001b[39mformat(lines)\n\u001b[1;32m----> 9\u001b[0m \u001b[38;5;28;01mreturn\u001b[39;00m \u001b[38;5;28;43msuper\u001b[39;49m\u001b[43m(\u001b[49m\u001b[43mDecoder\u001b[49m\u001b[43m,\u001b[49m\u001b[43m \u001b[49m\u001b[38;5;28;43mself\u001b[39;49m\u001b[43m)\u001b[49m\u001b[38;5;241;43m.\u001b[39;49m\u001b[43mdecode\u001b[49m\u001b[43m(\u001b[49m\u001b[43mtext\u001b[49m\u001b[43m,\u001b[49m\u001b[43m \u001b[49m\u001b[38;5;241;43m*\u001b[39;49m\u001b[43margs\u001b[49m\u001b[43m,\u001b[49m\u001b[43m \u001b[49m\u001b[38;5;241;43m*\u001b[39;49m\u001b[38;5;241;43m*\u001b[39;49m\u001b[43mkwargs\u001b[49m\u001b[43m)\u001b[49m\n",
      "File \u001b[1;32mc:\\Users\\masak\\anaconda3\\envs\\M2C\\Lib\\json\\decoder.py:337\u001b[0m, in \u001b[0;36mJSONDecoder.decode\u001b[1;34m(self, s, _w)\u001b[0m\n\u001b[0;32m    332\u001b[0m \u001b[38;5;28;01mdef\u001b[39;00m \u001b[38;5;21mdecode\u001b[39m(\u001b[38;5;28mself\u001b[39m, s, _w\u001b[38;5;241m=\u001b[39mWHITESPACE\u001b[38;5;241m.\u001b[39mmatch):\n\u001b[0;32m    333\u001b[0m \u001b[38;5;250m    \u001b[39m\u001b[38;5;124;03m\"\"\"Return the Python representation of ``s`` (a ``str`` instance\u001b[39;00m\n\u001b[0;32m    334\u001b[0m \u001b[38;5;124;03m    containing a JSON document).\u001b[39;00m\n\u001b[0;32m    335\u001b[0m \n\u001b[0;32m    336\u001b[0m \u001b[38;5;124;03m    \"\"\"\u001b[39;00m\n\u001b[1;32m--> 337\u001b[0m     obj, end \u001b[38;5;241m=\u001b[39m \u001b[38;5;28;43mself\u001b[39;49m\u001b[38;5;241;43m.\u001b[39;49m\u001b[43mraw_decode\u001b[49m\u001b[43m(\u001b[49m\u001b[43ms\u001b[49m\u001b[43m,\u001b[49m\u001b[43m \u001b[49m\u001b[43midx\u001b[49m\u001b[38;5;241;43m=\u001b[39;49m\u001b[43m_w\u001b[49m\u001b[43m(\u001b[49m\u001b[43ms\u001b[49m\u001b[43m,\u001b[49m\u001b[43m \u001b[49m\u001b[38;5;241;43m0\u001b[39;49m\u001b[43m)\u001b[49m\u001b[38;5;241;43m.\u001b[39;49m\u001b[43mend\u001b[49m\u001b[43m(\u001b[49m\u001b[43m)\u001b[49m\u001b[43m)\u001b[49m\n\u001b[0;32m    338\u001b[0m     end \u001b[38;5;241m=\u001b[39m _w(s, end)\u001b[38;5;241m.\u001b[39mend()\n\u001b[0;32m    339\u001b[0m     \u001b[38;5;28;01mif\u001b[39;00m end \u001b[38;5;241m!=\u001b[39m \u001b[38;5;28mlen\u001b[39m(s):\n",
      "File \u001b[1;32mc:\\Users\\masak\\anaconda3\\envs\\M2C\\Lib\\json\\decoder.py:355\u001b[0m, in \u001b[0;36mJSONDecoder.raw_decode\u001b[1;34m(self, s, idx)\u001b[0m\n\u001b[0;32m    353\u001b[0m     obj, end \u001b[38;5;241m=\u001b[39m \u001b[38;5;28mself\u001b[39m\u001b[38;5;241m.\u001b[39mscan_once(s, idx)\n\u001b[0;32m    354\u001b[0m \u001b[38;5;28;01mexcept\u001b[39;00m \u001b[38;5;167;01mStopIteration\u001b[39;00m \u001b[38;5;28;01mas\u001b[39;00m err:\n\u001b[1;32m--> 355\u001b[0m     \u001b[38;5;28;01mraise\u001b[39;00m JSONDecodeError(\u001b[38;5;124m\"\u001b[39m\u001b[38;5;124mExpecting value\u001b[39m\u001b[38;5;124m\"\u001b[39m, s, err\u001b[38;5;241m.\u001b[39mvalue) \u001b[38;5;28;01mfrom\u001b[39;00m \u001b[38;5;28;01mNone\u001b[39;00m\n\u001b[0;32m    356\u001b[0m \u001b[38;5;28;01mreturn\u001b[39;00m obj, end\n",
      "\u001b[1;31mJSONDecodeError\u001b[0m: Expecting value: line 1 column 3 (char 2)"
     ]
    }
   ],
   "source": [
    "import ndjson\n",
    "with open(\"resource/camel.json\", \"r\", encoding='utf-8') as f:\n",
    "    data = ndjson.load(f)\n",
    "\n",
    "for record in data:\n",
    "    print(record)"
   ]
  }
 ],
 "metadata": {
  "kernelspec": {
   "display_name": "M2C",
   "language": "python",
   "name": "python3"
  },
  "language_info": {
   "codemirror_mode": {
    "name": "ipython",
    "version": 3
   },
   "file_extension": ".py",
   "mimetype": "text/x-python",
   "name": "python",
   "nbconvert_exporter": "python",
   "pygments_lexer": "ipython3",
   "version": "3.11.9"
  }
 },
 "nbformat": 4,
 "nbformat_minor": 2
}
