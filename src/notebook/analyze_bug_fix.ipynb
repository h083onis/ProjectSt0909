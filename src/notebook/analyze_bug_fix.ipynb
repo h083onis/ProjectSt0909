{
 "cells": [
  {
   "cell_type": "code",
   "execution_count": null,
   "metadata": {},
   "outputs": [
    {
     "data": {
      "text/html": [
       "<div>\n",
       "<style scoped>\n",
       "    .dataframe tbody tr th:only-of-type {\n",
       "        vertical-align: middle;\n",
       "    }\n",
       "\n",
       "    .dataframe tbody tr th {\n",
       "        vertical-align: top;\n",
       "    }\n",
       "\n",
       "    .dataframe thead th {\n",
       "        text-align: right;\n",
       "    }\n",
       "</style>\n",
       "<table border=\"1\" class=\"dataframe\">\n",
       "  <thead>\n",
       "    <tr style=\"text-align: right;\">\n",
       "      <th></th>\n",
       "      <th>commit_id</th>\n",
       "      <th>changed_src_files</th>\n",
       "      <th>categories</th>\n",
       "      <th>complexity</th>\n",
       "      <th>lloc</th>\n",
       "      <th>contains_bug</th>\n",
       "      <th>fixes</th>\n",
       "      <th>num_product_files</th>\n",
       "    </tr>\n",
       "  </thead>\n",
       "  <tbody>\n",
       "    <tr>\n",
       "      <th>0</th>\n",
       "      <td>0000e4462e7343152ee0f6730fc8e50e8810b7f4</td>\n",
       "      <td>['camel-core/src/main/java/org/apache/camel/im...</td>\n",
       "      <td>[4, 2]</td>\n",
       "      <td>21</td>\n",
       "      <td>67</td>\n",
       "      <td>False</td>\n",
       "      <td>NaN</td>\n",
       "      <td>2</td>\n",
       "    </tr>\n",
       "    <tr>\n",
       "      <th>1</th>\n",
       "      <td>00026ef1b16b51145c44200099f110dea62b5464</td>\n",
       "      <td>['components/camel-docker/src/main/java/org/ap...</td>\n",
       "      <td>[3, 4]</td>\n",
       "      <td>20</td>\n",
       "      <td>68</td>\n",
       "      <td>False</td>\n",
       "      <td>NaN</td>\n",
       "      <td>2</td>\n",
       "    </tr>\n",
       "    <tr>\n",
       "      <th>2</th>\n",
       "      <td>000775ffae617e61ee57901d26c8dfb607809ab6</td>\n",
       "      <td>['components/camel-pulsar/src/main/java/org/ap...</td>\n",
       "      <td>[2, 1, 1]</td>\n",
       "      <td>15</td>\n",
       "      <td>74</td>\n",
       "      <td>False</td>\n",
       "      <td>NaN</td>\n",
       "      <td>3</td>\n",
       "    </tr>\n",
       "    <tr>\n",
       "      <th>3</th>\n",
       "      <td>00077a0aa1eff2ca38f457d8ecc75cbe8918db0f</td>\n",
       "      <td>['components/camel-cxf-transport/src/main/java...</td>\n",
       "      <td>[4]</td>\n",
       "      <td>27</td>\n",
       "      <td>127</td>\n",
       "      <td>False</td>\n",
       "      <td>NaN</td>\n",
       "      <td>1</td>\n",
       "    </tr>\n",
       "    <tr>\n",
       "      <th>4</th>\n",
       "      <td>000938a9e22a4b214db8a6b79fc5564e060442b1</td>\n",
       "      <td>['components/camel-sjms/src/main/java/org/apac...</td>\n",
       "      <td>[4]</td>\n",
       "      <td>30</td>\n",
       "      <td>143</td>\n",
       "      <td>False</td>\n",
       "      <td>NaN</td>\n",
       "      <td>1</td>\n",
       "    </tr>\n",
       "    <tr>\n",
       "      <th>5</th>\n",
       "      <td>000e09a80874cc6b3ee748504611d4bb45be3483</td>\n",
       "      <td>['components/camel-reactive-streams/src/main/j...</td>\n",
       "      <td>[4, 3, 2, 1, 1]</td>\n",
       "      <td>125</td>\n",
       "      <td>595</td>\n",
       "      <td>True</td>\n",
       "      <td>[\"a1830d5a2788ec26b34e48732026b3d706f615dd\", \"...</td>\n",
       "      <td>5</td>\n",
       "    </tr>\n",
       "    <tr>\n",
       "      <th>6</th>\n",
       "      <td>0010857418032ceccfa3abc95ca1d8436926bf10</td>\n",
       "      <td>['components/camel-cxf/src/main/java/org/apach...</td>\n",
       "      <td>[4]</td>\n",
       "      <td>31</td>\n",
       "      <td>118</td>\n",
       "      <td>True</td>\n",
       "      <td>[\"6fb053ace95bb051c47d53c0656b7806a04bf35e\"]</td>\n",
       "      <td>1</td>\n",
       "    </tr>\n",
       "    <tr>\n",
       "      <th>7</th>\n",
       "      <td>0018bbdd33ea214cfd1e58ccac3dff9e72c528f2</td>\n",
       "      <td>['camel-core/src/main/java/org/apache/camel/pr...</td>\n",
       "      <td>[2, 1]</td>\n",
       "      <td>93</td>\n",
       "      <td>270</td>\n",
       "      <td>True</td>\n",
       "      <td>[\"55901baa31b099f4afcf182ab3b7d3df0b08f5e5\"]</td>\n",
       "      <td>2</td>\n",
       "    </tr>\n",
       "    <tr>\n",
       "      <th>8</th>\n",
       "      <td>001969206c02dfe49b63c1a6d80985f0edc8eae3</td>\n",
       "      <td>['components/camel-jetty/src/main/java/org/apa...</td>\n",
       "      <td>[4]</td>\n",
       "      <td>6</td>\n",
       "      <td>13</td>\n",
       "      <td>False</td>\n",
       "      <td>NaN</td>\n",
       "      <td>1</td>\n",
       "    </tr>\n",
       "    <tr>\n",
       "      <th>9</th>\n",
       "      <td>0019f0b9ef5900d928d00a206c4bd1652912babd</td>\n",
       "      <td>['camel-core/src/main/java/org/apache/camel/mo...</td>\n",
       "      <td>[4]</td>\n",
       "      <td>0</td>\n",
       "      <td>0</td>\n",
       "      <td>False</td>\n",
       "      <td>NaN</td>\n",
       "      <td>1</td>\n",
       "    </tr>\n",
       "  </tbody>\n",
       "</table>\n",
       "</div>"
      ],
      "text/plain": [
       "                                  commit_id  \\\n",
       "0  0000e4462e7343152ee0f6730fc8e50e8810b7f4   \n",
       "1  00026ef1b16b51145c44200099f110dea62b5464   \n",
       "2  000775ffae617e61ee57901d26c8dfb607809ab6   \n",
       "3  00077a0aa1eff2ca38f457d8ecc75cbe8918db0f   \n",
       "4  000938a9e22a4b214db8a6b79fc5564e060442b1   \n",
       "5  000e09a80874cc6b3ee748504611d4bb45be3483   \n",
       "6  0010857418032ceccfa3abc95ca1d8436926bf10   \n",
       "7  0018bbdd33ea214cfd1e58ccac3dff9e72c528f2   \n",
       "8  001969206c02dfe49b63c1a6d80985f0edc8eae3   \n",
       "9  0019f0b9ef5900d928d00a206c4bd1652912babd   \n",
       "\n",
       "                                   changed_src_files       categories  \\\n",
       "0  ['camel-core/src/main/java/org/apache/camel/im...           [4, 2]   \n",
       "1  ['components/camel-docker/src/main/java/org/ap...           [3, 4]   \n",
       "2  ['components/camel-pulsar/src/main/java/org/ap...        [2, 1, 1]   \n",
       "3  ['components/camel-cxf-transport/src/main/java...              [4]   \n",
       "4  ['components/camel-sjms/src/main/java/org/apac...              [4]   \n",
       "5  ['components/camel-reactive-streams/src/main/j...  [4, 3, 2, 1, 1]   \n",
       "6  ['components/camel-cxf/src/main/java/org/apach...              [4]   \n",
       "7  ['camel-core/src/main/java/org/apache/camel/pr...           [2, 1]   \n",
       "8  ['components/camel-jetty/src/main/java/org/apa...              [4]   \n",
       "9  ['camel-core/src/main/java/org/apache/camel/mo...              [4]   \n",
       "\n",
       "   complexity  lloc  contains_bug  \\\n",
       "0          21    67         False   \n",
       "1          20    68         False   \n",
       "2          15    74         False   \n",
       "3          27   127         False   \n",
       "4          30   143         False   \n",
       "5         125   595          True   \n",
       "6          31   118          True   \n",
       "7          93   270          True   \n",
       "8           6    13         False   \n",
       "9           0     0         False   \n",
       "\n",
       "                                               fixes  num_product_files  \n",
       "0                                                NaN                  2  \n",
       "1                                                NaN                  2  \n",
       "2                                                NaN                  3  \n",
       "3                                                NaN                  1  \n",
       "4                                                NaN                  1  \n",
       "5  [\"a1830d5a2788ec26b34e48732026b3d706f615dd\", \"...                  5  \n",
       "6       [\"6fb053ace95bb051c47d53c0656b7806a04bf35e\"]                  1  \n",
       "7       [\"55901baa31b099f4afcf182ab3b7d3df0b08f5e5\"]                  2  \n",
       "8                                                NaN                  1  \n",
       "9                                                NaN                  1  "
      ]
     },
     "execution_count": 143,
     "metadata": {},
     "output_type": "execute_result"
    }
   ],
   "source": [
    "# import pandas as pd\n",
    "# import ast\n",
    "# df = pd.read_csv('../resource/per_commit_threthold7.csv')\n",
    "# df.head(10)"
   ]
  },
  {
   "cell_type": "code",
   "execution_count": 144,
   "metadata": {},
   "outputs": [],
   "source": [
    "# df2 = df[df[\"contains_bug\"]].copy()\n",
    "# # df2[\"fixes\"] = df2[\"fixes\"].apply(eval)\n",
    "# # df2[\"categories\"] = df2[\"categories\"].apply(eval)\n",
    "\n",
    "# df2.set_index(\"commit_id\", inplace=True)\n",
    "# df.set_index(\"commit_id\", inplace=True)"
   ]
  },
  {
   "cell_type": "code",
   "execution_count": 146,
   "metadata": {},
   "outputs": [],
   "source": [
    "# #バグ修正コミットの特徴を調べる\n",
    "# bug_fix_commit_id = []\n",
    "# level_list = []\n",
    "# complexity_list = []\n",
    "# lloc_list = []\n",
    "# label_list = []\n",
    "\n",
    "# for idx, row in df2.iterrows():\n",
    "#     for commit_id in ast.literal_eval(row[\"fixes\"]):\n",
    "#         if commit_id not in df.index or commit_id in bug_fix_commit_id:\n",
    "#             continue\n",
    "#         row2 = df.loc[commit_id]\n",
    "#         bug_fix_commit_id.append(commit_id)\n",
    "#         level_list.append(max(ast.literal_eval(row2[\"categories\"])))\n",
    "#         complexity_list.append(row2[\"complexity\"])\n",
    "#         lloc_list.append(row2[\"lloc\"]) \n",
    "#         label_list.append(row2[\"contains_bug\"])\n",
    "        "
   ]
  },
  {
   "cell_type": "code",
   "execution_count": 148,
   "metadata": {},
   "outputs": [
    {
     "data": {
      "text/plain": [
       "3449"
      ]
     },
     "execution_count": 148,
     "metadata": {},
     "output_type": "execute_result"
    }
   ],
   "source": [
    "# len(bug_fix_commit_id)"
   ]
  },
  {
   "cell_type": "code",
   "execution_count": 149,
   "metadata": {},
   "outputs": [],
   "source": [
    "# bug_fix_commit_df = pd.DataFrame(\n",
    "#     data={\n",
    "#         \"commit_id\": bug_fix_commit_id,\n",
    "#         \"max_level\": level_list,\n",
    "#         \"complexity\": complexity_list,\n",
    "#         \"lloc\": lloc_list,\n",
    "#         \"contains_bug\": label_list\n",
    "#     }\n",
    "# )\n",
    "# bug_fix_commit_df.to_csv(\"bug_fix_commit.csv\", index=False)"
   ]
  },
  {
   "cell_type": "code",
   "execution_count": 150,
   "metadata": {},
   "outputs": [
    {
     "data": {
      "text/html": [
       "<div>\n",
       "<style scoped>\n",
       "    .dataframe tbody tr th:only-of-type {\n",
       "        vertical-align: middle;\n",
       "    }\n",
       "\n",
       "    .dataframe tbody tr th {\n",
       "        vertical-align: top;\n",
       "    }\n",
       "\n",
       "    .dataframe thead th {\n",
       "        text-align: right;\n",
       "    }\n",
       "</style>\n",
       "<table border=\"1\" class=\"dataframe\">\n",
       "  <thead>\n",
       "    <tr style=\"text-align: right;\">\n",
       "      <th></th>\n",
       "      <th>commit_id</th>\n",
       "      <th>max_level</th>\n",
       "      <th>complexity</th>\n",
       "      <th>lloc</th>\n",
       "      <th>contains_bug</th>\n",
       "    </tr>\n",
       "  </thead>\n",
       "  <tbody>\n",
       "    <tr>\n",
       "      <th>0</th>\n",
       "      <td>1fe30377164ccbbcbefc0183c8c784988767c28c</td>\n",
       "      <td>3</td>\n",
       "      <td>0</td>\n",
       "      <td>0</td>\n",
       "      <td>False</td>\n",
       "    </tr>\n",
       "    <tr>\n",
       "      <th>1</th>\n",
       "      <td>55901baa31b099f4afcf182ab3b7d3df0b08f5e5</td>\n",
       "      <td>4</td>\n",
       "      <td>444</td>\n",
       "      <td>1477</td>\n",
       "      <td>True</td>\n",
       "    </tr>\n",
       "    <tr>\n",
       "      <th>2</th>\n",
       "      <td>efca3b12a326082e685494d51308c6a1f5f27114</td>\n",
       "      <td>4</td>\n",
       "      <td>430</td>\n",
       "      <td>1891</td>\n",
       "      <td>False</td>\n",
       "    </tr>\n",
       "    <tr>\n",
       "      <th>3</th>\n",
       "      <td>b0ac731294b9cda85590d729f9a5c6f35e09844f</td>\n",
       "      <td>1</td>\n",
       "      <td>1</td>\n",
       "      <td>3</td>\n",
       "      <td>True</td>\n",
       "    </tr>\n",
       "    <tr>\n",
       "      <th>4</th>\n",
       "      <td>edd4e628690cf0a2ce03b537f88a3075bc29e8c1</td>\n",
       "      <td>4</td>\n",
       "      <td>103</td>\n",
       "      <td>373</td>\n",
       "      <td>True</td>\n",
       "    </tr>\n",
       "  </tbody>\n",
       "</table>\n",
       "</div>"
      ],
      "text/plain": [
       "                                  commit_id  max_level  complexity  lloc  \\\n",
       "0  1fe30377164ccbbcbefc0183c8c784988767c28c          3           0     0   \n",
       "1  55901baa31b099f4afcf182ab3b7d3df0b08f5e5          4         444  1477   \n",
       "2  efca3b12a326082e685494d51308c6a1f5f27114          4         430  1891   \n",
       "3  b0ac731294b9cda85590d729f9a5c6f35e09844f          1           1     3   \n",
       "4  edd4e628690cf0a2ce03b537f88a3075bc29e8c1          4         103   373   \n",
       "\n",
       "   contains_bug  \n",
       "0         False  \n",
       "1          True  \n",
       "2         False  \n",
       "3          True  \n",
       "4          True  "
      ]
     },
     "execution_count": 150,
     "metadata": {},
     "output_type": "execute_result"
    }
   ],
   "source": [
    "import pandas as pd\n",
    "bug_fix_commit_df = pd.read_csv(\"../resource/result/bug_fix_commit.csv\")\n",
    "bug_fix_commit_df.head()"
   ]
  },
  {
   "cell_type": "code",
   "execution_count": 151,
   "metadata": {},
   "outputs": [
    {
     "data": {
      "text/plain": [
       "(3449, 5)"
      ]
     },
     "execution_count": 151,
     "metadata": {},
     "output_type": "execute_result"
    }
   ],
   "source": [
    "bug_fix_commit_df.shape"
   ]
  },
  {
   "cell_type": "code",
   "execution_count": 152,
   "metadata": {},
   "outputs": [
    {
     "name": "stdout",
     "output_type": "stream",
     "text": [
      "1286\n"
     ]
    },
    {
     "data": {
      "text/plain": [
       "0.37286169904320093"
      ]
     },
     "execution_count": 152,
     "metadata": {},
     "output_type": "execute_result"
    }
   ],
   "source": [
    "bug_commits = bug_fix_commit_df[\"contains_bug\"].value_counts().get(True, 0)\n",
    "print(bug_commits)\n",
    "bug_commits / bug_fix_commit_df.shape[0]"
   ]
  },
  {
   "cell_type": "code",
   "execution_count": 153,
   "metadata": {},
   "outputs": [
    {
     "name": "stdout",
     "output_type": "stream",
     "text": [
      "レベル1, コミット数：484, バグコミット数：144, バグ率：0.2975206611570248\n",
      "レベル2, コミット数：1091, バグコミット数：310, バグ率：0.2841429880843263\n",
      "レベル3, コミット数：249, バグコミット数：123, バグ率：0.4939759036144578\n",
      "レベル4, コミット数：1625, バグコミット数：709, バグ率：0.4363076923076923\n"
     ]
    }
   ],
   "source": [
    "for i in range(1, 5):\n",
    "    bug_commits = bug_fix_commit_df[bug_fix_commit_df[\"max_level\"]==i][\"contains_bug\"].value_counts().get(True, 0)\n",
    "    per_level_commits = len(bug_fix_commit_df[bug_fix_commit_df[\"max_level\"]==i])\n",
    "    ratio = bug_commits / per_level_commits\n",
    "    print(f\"レベル{str(i)}, コミット数：{per_level_commits}, バグコミット数：{bug_commits}, バグ率：{ratio}\")\n"
   ]
  },
  {
   "cell_type": "code",
   "execution_count": 157,
   "metadata": {},
   "outputs": [
    {
     "data": {
      "image/png": "[encoded data removed]",
      "text/plain": [
       "<Figure size 400x300 with 1 Axes>"
      ]
     },
     "metadata": {},
     "output_type": "display_data"
    }
   ],
   "source": [
    "import matplotlib.pyplot as plt\n",
    "import japanize_matplotlib  # 日本語フォントのサポートを簡単に設定できるライブラリ\n",
    "import numpy as np\n",
    "\n",
    "# データフレーム（df）の準備\n",
    "categories = sorted(bug_fix_commit_df['max_level'].unique())\n",
    "category_indices = {category: idx for idx, category in enumerate(categories)}\n",
    "category_data = {category: bug_fix_commit_df[bug_fix_commit_df['max_level'] == category]['complexity'].values for category in categories}\n",
    "\n",
    "# 箱ひげ図の作成\n",
    "fig, ax = plt.subplots(figsize=(4, 3))\n",
    "\n",
    "# データをプロット\n",
    "ax.boxplot([category_data[category] for category in categories], vert=True, patch_artist=False, showmeans=True, sym=\"\")\n",
    "\n",
    "# タイトル、ラベル、X軸のラベルを設定\n",
    "# ax.set_title('Category-wise LLOC Distribution')\n",
    "ax.set_xlabel('レベル')\n",
    "ax.set_ylabel('サイクロマティック複雑度')\n",
    "ax.set_xticklabels(categories)\n",
    "\n",
    "# グラフの表示\n",
    "plt.show()\n"
   ]
  },
  {
   "cell_type": "code",
   "execution_count": 156,
   "metadata": {},
   "outputs": [
    {
     "data": {
      "image/png": "[encoded data removed]",
      "text/plain": [
       "<Figure size 400x300 with 1 Axes>"
      ]
     },
     "metadata": {},
     "output_type": "display_data"
    }
   ],
   "source": [
    "import matplotlib.pyplot as plt\n",
    "import japanize_matplotlib  # 日本語フォントのサポートを簡単に設定できるライブラリ\n",
    "import numpy as np\n",
    "\n",
    "# データフレーム（df）の準備\n",
    "categories = sorted(bug_fix_commit_df['max_level'].unique())\n",
    "category_indices = {category: idx for idx, category in enumerate(categories)}\n",
    "category_data = {category: bug_fix_commit_df[bug_fix_commit_df['max_level'] == category]['lloc'].values for category in categories}\n",
    "\n",
    "# 箱ひげ図の作成\n",
    "fig, ax = plt.subplots(figsize=(4, 3))\n",
    "\n",
    "# データをプロット\n",
    "ax.boxplot([category_data[category] for category in categories], vert=True, patch_artist=False, showmeans=True, sym=\"\")\n",
    "\n",
    "# タイトル、ラベル、X軸のラベルを設定\n",
    "# ax.set_title('Category-wise LLOC Distribution')\n",
    "ax.set_xlabel('レベル')\n",
    "ax.set_ylabel('実行可能行数')\n",
    "ax.set_xticklabels(categories)\n",
    "\n",
    "# グラフの表示\n",
    "plt.show()\n"
   ]
  }
 ],
 "metadata": {
  "kernelspec": {
   "display_name": "M2C",
   "language": "python",
   "name": "python3"
  },
  "language_info": {
   "codemirror_mode": {
    "name": "ipython",
    "version": 3
   },
   "file_extension": ".py",
   "mimetype": "text/x-python",
   "name": "python",
   "nbconvert_exporter": "python",
   "pygments_lexer": "ipython3",
   "version": "3.11.9"
  }
 },
 "nbformat": 4,
 "nbformat_minor": 2
}
